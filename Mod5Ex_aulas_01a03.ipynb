{
 "cells": [
  {
   "cell_type": "markdown",
   "metadata": {},
   "source": [
    "# Módulo 5 Tarefa 1\n",
    "## Base de nascidos vivos do DataSUS\n",
    "O DataSUS disponibiliza diversos arquivos de dados com relação a seus segurados, conforme a [lei da transparência de informações públicas](https://www.sisgov.com/transparencia-acesso-informacao/#:~:text=A%20Lei%20da%20Transpar%C3%AAncia%20(LC,em%20um%20site%20na%20internet.). \n",
    "\n",
    "Essas informações podem ser obtidas pela internet [aqui](http://www2.datasus.gov.br/DATASUS/index.php?area=0901&item=1). Como o processo de obtenção desses arquivos foge um pouco do nosso escopo, deixamos o arquivo SINASC_RO_2019.csv` já como vai ser encontrado no DataSUS. O dicionário de dados está no arquivo `estrutura_sinasc_para_CD.pdf` (o nome do arquivo tal qual no portal do DataSUS).\n",
    "\n",
    "### Nosso objetivo\n",
    "Queremos deixar uma base organizada para podermos estudar a relação entre partos com risco para o bebê e algumas condições como tempo de parto, consultas de pré-natal etc.\n",
    "\n",
    "#### Preparação da base\n",
    "1. Carregue a base 'SINASC_RO_2019.csv'. Conte o número de registros e o número de registros não duplicados da base. Dica: você aprendeu um método que remove duplicados, encadeie este método com um outro método que conta o número de linhas. **Há linhas duplicadas?**  \n",
    "\n",
    "2. Conte o número de valores *missing* por variável.  \n",
    "\n",
    "3. Ok, no item anterior você deve ter achado pouco prático ler a informação de tantas variáveis, muitas delas nem devem ser interesantes. Então crie uma seleção dessa base somente com as colunas que interessam. São elas:\n",
    "` \n",
    "['LOCNASC', 'IDADEMAE', 'ESTCIVMAE', 'ESCMAE', 'QTDFILVIVO', \n",
    "    'GESTACAO', 'GRAVIDEZ', 'CONSULTAS', 'APGAR5'] \n",
    "`\n",
    "Refaça a contagem de valores *missings*.  \n",
    "\n",
    "4. Apgar é uma *nota* que o pediatra dá ao bebê quando nasce de acordo com algumas características associadas principalmente à respiração. Apgar 1 e Apgar 5 são as notas 1 e 5 minutos do nascimento. Apgar5 será a nossa variável de interesse principal. Então remova todos os registros com Apgar5 não preenchido. Para esta seleção, conte novamente o número de linhas e o número de *missings*.  \n",
    "\n",
    "5. observe que as variáveis `['ESTCIVMAE', 'CONSULTAS']` possuem o código `9`, que significa *ignorado*. Vamos assumir que o não preenchido é o mesmo que o código `9`.<br>\n",
    "6. Substitua os valores faltantes da quantitativa (`QTDFILVIVO`) por zero.  \n",
    "7. Das restantes, decida que valore te parece mais adequado (um 'não preenchido' ou um valor 'mais provável' como no item anterior) e preencha. Justifique. Lembre-se de que tratamento de dados é trabalho do cientista, e que estamos tomando decisões a todo o momento - não há necessariamente certo e errado aqui.  \n",
    "8. O Apgar possui uma classificação indicando se o bebê passou por asfixia:\n",
    "- Entre 8 e 10 está em uma faixa 'normal'. \n",
    "- Entre 6 e 7, significa que o recém-nascido passou por 'asfixia leve'. \n",
    "- Entre 4 e 5 significa 'asfixia moderada'.\n",
    "- Entre 0 e 3 significa 'asfixia severa'.  \n",
    "\n",
    "Crie uma categorização dessa variável com essa codificação e calcule as frequências dessa categorização.  \n",
    "<br>\n",
    "9. Renomeie as variáveis para que fiquem no *snake case*, ou seja, em letras minúsculas, com um *underscore* entre as palávras. Dica: repare que se você não quiser criar um *dataframe* novo, você vai precisar usar a opção `inplace = True`."
   ]
  },
  {
   "cell_type": "markdown",
   "metadata": {},
   "source": [
    "# EXERCICIOS"
   ]
  },
  {
   "cell_type": "markdown",
   "metadata": {},
   "source": [
    "**1.** Carregue a base 'SINASC_RO_2019.csv'. Conte o número de registros e o número de registros não duplicados da base. Dica: você aprendeu um método que remove duplicados, encadeie este método com um outro método que conta o número de linhas. Há linhas duplicadas?"
   ]
  },
  {
   "cell_type": "code",
   "execution_count": 1,
   "metadata": {},
   "outputs": [
    {
     "name": "stdout",
     "output_type": "stream",
     "text": [
      "(27028, 69)\n"
     ]
    }
   ],
   "source": [
    "import pandas as pd\n",
    "import requests\n",
    "\n",
    "sinasc = pd.read_csv('SINASC_RO_2019.csv')\n",
    "print(sinasc.shape)"
   ]
  },
  {
   "cell_type": "code",
   "execution_count": 2,
   "metadata": {},
   "outputs": [
    {
     "data": {
      "text/plain": [
       "(27028, 69)"
      ]
     },
     "execution_count": 2,
     "metadata": {},
     "output_type": "execute_result"
    }
   ],
   "source": [
    "# Não há duplicados\n",
    "sinasc.drop_duplicates().shape"
   ]
  },
  {
   "cell_type": "markdown",
   "metadata": {},
   "source": [
    "**2.** Conte o número de valores missing por variável."
   ]
  },
  {
   "cell_type": "code",
   "execution_count": 3,
   "metadata": {},
   "outputs": [
    {
     "data": {
      "text/plain": [
       "ORIGEM          0\n",
       "CODESTAB      115\n",
       "CODMUNNASC      0\n",
       "LOCNASC         0\n",
       "IDADEMAE        0\n",
       "             ... \n",
       "munResUf        0\n",
       "munResLat       1\n",
       "munResLon       1\n",
       "munResAlt       1\n",
       "munResArea      1\n",
       "Length: 69, dtype: int64"
      ]
     },
     "execution_count": 3,
     "metadata": {},
     "output_type": "execute_result"
    }
   ],
   "source": [
    "sinasc.isna().sum()"
   ]
  },
  {
   "cell_type": "markdown",
   "metadata": {},
   "source": [
    "**3.** Ok, no item anterior você deve ter achado pouco prático ler a informação de tantas variáveis, muitas delas nem devem ser interesantes. Então crie uma seleção dessa base somente com as colunas que interessam. São elas:\n",
    "` \n",
    "['LOCNASC', 'IDADEMAE', 'ESTCIVMAE', 'ESCMAE', 'QTDFILVIVO', \n",
    "    'GESTACAO', 'GRAVIDEZ', 'CONSULTAS', 'APGAR5'] \n",
    "`\n",
    "Refaça a contagem de valores *missings*.  "
   ]
  },
  {
   "cell_type": "code",
   "execution_count": 4,
   "metadata": {},
   "outputs": [
    {
     "data": {
      "text/plain": [
       "LOCNASC          0\n",
       "IDADEMAE         0\n",
       "ESTCIVMAE      317\n",
       "ESCMAE         312\n",
       "QTDFILVIVO    1573\n",
       "GESTACAO      1232\n",
       "GRAVIDEZ        79\n",
       "CONSULTAS        0\n",
       "APGAR5         103\n",
       "dtype: int64"
      ]
     },
     "execution_count": 4,
     "metadata": {},
     "output_type": "execute_result"
    }
   ],
   "source": [
    "# aqui crio uma lista com as colunas desejadas para checagem de missing values\n",
    "valores_checagem = ['LOCNASC', 'IDADEMAE', 'ESTCIVMAE', 'ESCMAE', 'QTDFILVIVO', 'GESTACAO', 'GRAVIDEZ', 'CONSULTAS', 'APGAR5']\n",
    "\n",
    "# agora, filtro os missing values baseando-me na lista acima\n",
    "sinasc[valores_checagem].isna().sum()"
   ]
  },
  {
   "cell_type": "markdown",
   "metadata": {},
   "source": [
    "**4.** Apgar é uma nota que o pediatra dá ao bebê quando nasce de acordo com algumas características associadas principalmente à respiração. Apgar 1 e Apgar 5 são as notas 1 e 5 minutos do nascimento. Apgar5 será a nossa variável de interesse principal. Então remova todos os registros com Apgar5 não preenchido. Para esta seleção, conte novamente o número de linhas e o número de missings. "
   ]
  },
  {
   "cell_type": "code",
   "execution_count": 5,
   "metadata": {},
   "outputs": [
    {
     "name": "stdout",
     "output_type": "stream",
     "text": [
      "Número de linhas: 26925\n",
      "Total de valores ausentes após a filtragem: 120778\n"
     ]
    }
   ],
   "source": [
    "# primeiramente, removo todos os missing values da coluna Apgar5\n",
    "sinasc = sinasc.dropna(subset=['APGAR5'])\n",
    "\n",
    "# aqui conto o novo número de linhas\n",
    "print(\"Número de linhas:\", sinasc.shape[0])\n",
    "\n",
    "# finalmente, conto o número de missing values\n",
    "print(\"Total de valores ausentes após a filtragem:\", sinasc.isna().sum().sum())"
   ]
  },
  {
   "cell_type": "markdown",
   "metadata": {},
   "source": [
    "**5.** Observe que as variáveis ['ESTCIVMAE', 'CONSULTAS'] possuem o código 9, que significa ignorado. Vamos assumir que o não preenchido é o mesmo que o código 9."
   ]
  },
  {
   "cell_type": "code",
   "execution_count": 6,
   "metadata": {},
   "outputs": [
    {
     "name": "stdout",
     "output_type": "stream",
     "text": [
      "310\n",
      "0\n",
      "315\n",
      "0\n",
      "1216\n",
      "76\n",
      "49\n",
      "580\n"
     ]
    }
   ],
   "source": [
    "# primeiro, checo quantos missing values temos em cada coluna desejada\n",
    "print(sinasc['ESCMAE'].isna().sum())\n",
    "print(sinasc['LOCNASC'].isna().sum())\n",
    "print(sinasc['ESTCIVMAE'].isna().sum())\n",
    "print(sinasc['CONSULTAS'].isna().sum())\n",
    "print(sinasc['GESTACAO'].isna().sum())\n",
    "print(sinasc['GRAVIDEZ'].isna().sum())\n",
    "print(sinasc['PARTO'].isna().sum())\n",
    "print(sinasc['IDANOMAL'].isna().sum())"
   ]
  },
  {
   "cell_type": "code",
   "execution_count": 7,
   "metadata": {},
   "outputs": [],
   "source": [
    "# agora, trato todas as colunas que possuem o código 9\n",
    "sinasc['ESCMAE'] = sinasc['ESCMAE'].fillna('ignorado')\n",
    "sinasc['LOCNASC'] = sinasc['LOCNASC'].fillna('ignorado')\n",
    "sinasc['ESTCIVMAE'] = sinasc['ESTCIVMAE'].fillna('ignorado')\n",
    "sinasc['CONSULTAS'] = sinasc['CONSULTAS'].fillna('ignorado')\n",
    "sinasc['GESTACAO'] = sinasc['GESTACAO'].fillna('ignorado')\n",
    "sinasc['GRAVIDEZ'] = sinasc['GRAVIDEZ'].fillna('ignorado')\n",
    "sinasc['PARTO'] = sinasc['PARTO'].fillna('ignorado')\n",
    "sinasc['IDANOMAL'] = sinasc['IDANOMAL'].fillna('ignorado')"
   ]
  },
  {
   "cell_type": "code",
   "execution_count": 8,
   "metadata": {},
   "outputs": [
    {
     "name": "stdout",
     "output_type": "stream",
     "text": [
      "0\n",
      "0\n",
      "0\n",
      "0\n",
      "0\n",
      "0\n",
      "0\n",
      "0\n"
     ]
    }
   ],
   "source": [
    "# por ultimo, imprimo novamente as colunas acima para certificar de que os missing values foram tratados\n",
    "print(sinasc['ESCMAE'].isna().sum())\n",
    "print(sinasc['LOCNASC'].isna().sum())\n",
    "print(sinasc['ESTCIVMAE'].isna().sum())\n",
    "print(sinasc['CONSULTAS'].isna().sum())\n",
    "print(sinasc['GESTACAO'].isna().sum())\n",
    "print(sinasc['GRAVIDEZ'].isna().sum())\n",
    "print(sinasc['PARTO'].isna().sum())\n",
    "print(sinasc['IDANOMAL'].isna().sum())"
   ]
  },
  {
   "cell_type": "markdown",
   "metadata": {},
   "source": [
    "**6.** Substitua os valores faltantes da quantitativa (QTDFILVIVO) por zero."
   ]
  },
  {
   "cell_type": "code",
   "execution_count": 29,
   "metadata": {},
   "outputs": [
    {
     "name": "stdout",
     "output_type": "stream",
     "text": [
      "1566\n"
     ]
    }
   ],
   "source": [
    "# primeiro, checo quantos missing values temos em cada coluna desejada\n",
    "print(sinasc['QTDFILVIVO'].isna().sum())"
   ]
  },
  {
   "cell_type": "code",
   "execution_count": 30,
   "metadata": {},
   "outputs": [
    {
     "name": "stdout",
     "output_type": "stream",
     "text": [
      "0\n"
     ]
    }
   ],
   "source": [
    "# aqui substituo os missing values da coluna 'QTDFILVIVO' por zero, e checo novamente o total de missing values na coluna\n",
    "sinasc['QTDFILVIVO'] = sinasc['QTDFILVIVO'].fillna(0)\n",
    "print(sinasc['QTDFILVIVO'].isna().sum())"
   ]
  },
  {
   "cell_type": "markdown",
   "metadata": {},
   "source": [
    "**7.** Das restantes, decida que valore te parece mais adequado (um 'não preenchido' ou um valor 'mais provável' como no item anterior) e preencha. Justifique. Lembre-se de que tratamento de dados é trabalho do cientista, e que estamos tomando decisões a todo o momento - não há necessariamente certo e errado aqui."
   ]
  },
  {
   "cell_type": "code",
   "execution_count": 31,
   "metadata": {},
   "outputs": [
    {
     "name": "stdout",
     "output_type": "stream",
     "text": [
      "118897\n"
     ]
    }
   ],
   "source": [
    "# devido ao fato de o Dataframe possuir algumas colunas que tem o 0 intencionalmente adicionado,\n",
    "# acredito que adicionar 'não preenchido' para os missing values seja a melhor opção\n",
    "\n",
    "# novamente, faco a checagem de quantos missing values ainda temos\n",
    "print(sinasc.isna().sum().sum())"
   ]
  },
  {
   "cell_type": "code",
   "execution_count": 32,
   "metadata": {},
   "outputs": [
    {
     "name": "stdout",
     "output_type": "stream",
     "text": [
      "0\n"
     ]
    }
   ],
   "source": [
    "# agora sim substituo todos os missing values por 'não preenchido' e checo novamente o total de missing values no dataframe\n",
    "sinasc = sinasc.fillna('não preenchido')\n",
    "print(sinasc.isna().sum().sum())"
   ]
  },
  {
   "cell_type": "markdown",
   "metadata": {},
   "source": [
    "**8.** O Apgar possui uma classificação indicando se o bebê passou por asfixia:\n",
    "- Entre 8 e 10 está em uma faixa 'normal'. \n",
    "- Entre 6 e 7, significa que o recém-nascido passou por 'asfixia leve'. \n",
    "- Entre 4 e 5 significa 'asfixia moderada'.\n",
    "- Entre 0 e 3 significa 'asfixia severa'.  \n",
    "\n",
    "Crie uma categorização dessa variável com essa codificação e calcule as frequências dessa categorização.  "
   ]
  },
  {
   "cell_type": "code",
   "execution_count": 33,
   "metadata": {},
   "outputs": [
    {
     "data": {
      "text/plain": [
       "0        normal\n",
       "1        normal\n",
       "2        normal\n",
       "3        normal\n",
       "4        normal\n",
       "          ...  \n",
       "27023    normal\n",
       "27024    normal\n",
       "27025    normal\n",
       "27026    normal\n",
       "27027    normal\n",
       "Name: APGAR_cat, Length: 26925, dtype: category\n",
       "Categories (4, object): ['asfixia_severa' < 'asfixia_moderada' < 'asfixia_leve' < 'normal']"
      ]
     },
     "execution_count": 33,
     "metadata": {},
     "output_type": "execute_result"
    }
   ],
   "source": [
    "# aqui defino faixas e rótulos que serão usados para a categorização.\n",
    "bins = [-1, 3, 5, 7, 10]\n",
    "labels = ['asfixia_severa', 'asfixia_moderada', 'asfixia_leve', 'normal']\n",
    "\n",
    "# agora crio a coluna categórica e logo checo se ela foi criada apropriadamente\n",
    "sinasc['APGAR_cat'] = pd.cut(sinasc['APGAR5'], bins=bins, labels=labels)\n",
    "sinasc['APGAR_cat']"
   ]
  },
  {
   "cell_type": "code",
   "execution_count": 34,
   "metadata": {},
   "outputs": [
    {
     "data": {
      "text/plain": [
       "APGAR_cat\n",
       "normal              26463\n",
       "asfixia_leve          320\n",
       "asfixia_severa         74\n",
       "asfixia_moderada       68\n",
       "Name: count, dtype: int64"
      ]
     },
     "execution_count": 34,
     "metadata": {},
     "output_type": "execute_result"
    }
   ],
   "source": [
    "# pra finalizar, mostrando a frequência de cada categoria\n",
    "sinasc['APGAR_cat'].value_counts(ascending=False)"
   ]
  },
  {
   "cell_type": "markdown",
   "metadata": {},
   "source": [
    "**9.** Renomeie as variáveis para que fiquem no *snake case*, ou seja, em letras minúsculas, com um *underscore* entre as palávras. Dica: repare que se você não quiser criar um *dataframe* novo, você vai precisar usar a opção `inplace = True`. "
   ]
  },
  {
   "cell_type": "code",
   "execution_count": 38,
   "metadata": {},
   "outputs": [],
   "source": [
    "# Import o módulo re\n",
    "import re\n",
    "\n",
    "def snake_case(col):\n",
    "    # Removendo espaços no início/fim, substitui espaços e traços por underscore\n",
    "    col = col.strip()\n",
    "    col = re.sub(r'[\\s\\-]+', '_', col)\n",
    "\n",
    "    # Inserindo underscore entre palavras em maiúsculas e minúsculas\n",
    "    col = re.sub(r'([a-z])([A-Z])', r'\\1_\\2', col)\n",
    "\n",
    "    # Convertendo tudo para minúsculo\n",
    "    col = col.lower()\n",
    "    return col\n",
    "\n",
    "# Aplicando a função a todos os nomes de coluna\n",
    "sinasc.columns = [snake_case(col) for col in sinasc.columns]"
   ]
  },
  {
   "cell_type": "code",
   "execution_count": 36,
   "metadata": {},
   "outputs": [
    {
     "data": {
      "text/html": [
       "<div>\n",
       "<style scoped>\n",
       "    .dataframe tbody tr th:only-of-type {\n",
       "        vertical-align: middle;\n",
       "    }\n",
       "\n",
       "    .dataframe tbody tr th {\n",
       "        vertical-align: top;\n",
       "    }\n",
       "\n",
       "    .dataframe thead th {\n",
       "        text-align: right;\n",
       "    }\n",
       "</style>\n",
       "<table border=\"1\" class=\"dataframe\">\n",
       "  <thead>\n",
       "    <tr style=\"text-align: right;\">\n",
       "      <th></th>\n",
       "      <th>origem</th>\n",
       "      <th>codestab</th>\n",
       "      <th>codmunnasc</th>\n",
       "      <th>locnasc</th>\n",
       "      <th>idademae</th>\n",
       "      <th>estcivmae</th>\n",
       "      <th>escmae</th>\n",
       "      <th>codocupmae</th>\n",
       "      <th>qtdfilvivo</th>\n",
       "      <th>qtdfilmort</th>\n",
       "      <th>...</th>\n",
       "      <th>contador</th>\n",
       "      <th>mun_res_status</th>\n",
       "      <th>mun_res_tipo</th>\n",
       "      <th>mun_res_nome</th>\n",
       "      <th>mun_res_uf</th>\n",
       "      <th>mun_res_lat</th>\n",
       "      <th>mun_res_lon</th>\n",
       "      <th>mun_res_alt</th>\n",
       "      <th>mun_res_area</th>\n",
       "      <th>apgar_cat</th>\n",
       "    </tr>\n",
       "  </thead>\n",
       "  <tbody>\n",
       "    <tr>\n",
       "      <th>0</th>\n",
       "      <td>1</td>\n",
       "      <td>2679477.0</td>\n",
       "      <td>110001</td>\n",
       "      <td>1</td>\n",
       "      <td>19</td>\n",
       "      <td>5.0</td>\n",
       "      <td>8 a 11 anos</td>\n",
       "      <td>não preenchido</td>\n",
       "      <td>0.0</td>\n",
       "      <td>0.0</td>\n",
       "      <td>...</td>\n",
       "      <td>1</td>\n",
       "      <td>ATIVO</td>\n",
       "      <td>MUNIC</td>\n",
       "      <td>Alta Floresta D'Oeste</td>\n",
       "      <td>Rondônia</td>\n",
       "      <td>-11.93554</td>\n",
       "      <td>-61.99982</td>\n",
       "      <td>338.0</td>\n",
       "      <td>7067.025</td>\n",
       "      <td>normal</td>\n",
       "    </tr>\n",
       "    <tr>\n",
       "      <th>1</th>\n",
       "      <td>1</td>\n",
       "      <td>2679477.0</td>\n",
       "      <td>110001</td>\n",
       "      <td>1</td>\n",
       "      <td>29</td>\n",
       "      <td>2.0</td>\n",
       "      <td>8 a 11 anos</td>\n",
       "      <td>999992.0</td>\n",
       "      <td>1.0</td>\n",
       "      <td>0.0</td>\n",
       "      <td>...</td>\n",
       "      <td>2</td>\n",
       "      <td>ATIVO</td>\n",
       "      <td>MUNIC</td>\n",
       "      <td>Alta Floresta D'Oeste</td>\n",
       "      <td>Rondônia</td>\n",
       "      <td>-11.93554</td>\n",
       "      <td>-61.99982</td>\n",
       "      <td>338.0</td>\n",
       "      <td>7067.025</td>\n",
       "      <td>normal</td>\n",
       "    </tr>\n",
       "  </tbody>\n",
       "</table>\n",
       "<p>2 rows × 70 columns</p>\n",
       "</div>"
      ],
      "text/plain": [
       "   origem   codestab  codmunnasc  locnasc  idademae  estcivmae       escmae  \\\n",
       "0       1  2679477.0      110001        1        19        5.0  8 a 11 anos   \n",
       "1       1  2679477.0      110001        1        29        2.0  8 a 11 anos   \n",
       "\n",
       "       codocupmae  qtdfilvivo qtdfilmort  ...  contador mun_res_status  \\\n",
       "0  não preenchido         0.0        0.0  ...         1          ATIVO   \n",
       "1        999992.0         1.0        0.0  ...         2          ATIVO   \n",
       "\n",
       "  mun_res_tipo           mun_res_nome  mun_res_uf mun_res_lat mun_res_lon  \\\n",
       "0        MUNIC  Alta Floresta D'Oeste    Rondônia   -11.93554   -61.99982   \n",
       "1        MUNIC  Alta Floresta D'Oeste    Rondônia   -11.93554   -61.99982   \n",
       "\n",
       "  mun_res_alt mun_res_area  apgar_cat  \n",
       "0       338.0     7067.025     normal  \n",
       "1       338.0     7067.025     normal  \n",
       "\n",
       "[2 rows x 70 columns]"
      ]
     },
     "execution_count": 36,
     "metadata": {},
     "output_type": "execute_result"
    }
   ],
   "source": [
    "# Checo se a função acima foi criada apropriadamente\n",
    "sinasc.head(2)"
   ]
  }
 ],
 "metadata": {
  "kernelspec": {
   "display_name": "Python 3 (ipykernel)",
   "language": "python",
   "name": "python3"
  },
  "language_info": {
   "codemirror_mode": {
    "name": "ipython",
    "version": 3
   },
   "file_extension": ".py",
   "mimetype": "text/x-python",
   "name": "python",
   "nbconvert_exporter": "python",
   "pygments_lexer": "ipython3",
   "version": "3.13.5"
  }
 },
 "nbformat": 4,
 "nbformat_minor": 4
}
