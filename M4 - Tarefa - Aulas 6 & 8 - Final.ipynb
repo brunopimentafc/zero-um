{
 "cells": [
  {
   "cell_type": "markdown",
   "metadata": {},
   "source": [
    "# Tarefa 03\n",
    "\n",
    "- Leia os enunciados com atenção\n",
    "- Saiba que pode haver mais de uma resposta correta\n",
    "- Insira novas células de código sempre que achar necessário\n",
    "- Em caso de dúvidas, procure os Tutores\n",
    "- Divirta-se :)"
   ]
  },
  {
   "cell_type": "code",
   "execution_count": 56,
   "metadata": {},
   "outputs": [],
   "source": [
    "import pandas as pd\n",
    "import requests"
   ]
  },
  {
   "cell_type": "markdown",
   "metadata": {},
   "source": [
    "####  1) Lendo de APIs\n",
    "Vimos em aula como carregar dados públicos do governo através de um API (*Application Programming Interface*). No exemplo de aula, baixamos os dados de pedidos de verificação de limites (PVL) realizados por estados, e selecionamos apenas aqueles referentes ao estado de São Paulo.\n",
    "\n",
    "1. Repita os mesmos passos feitos em aula, mas selecione os PVLs realizados por municípios no estado do Rio de Janeiro.\n",
    "2. Quais são os três *status* das solicitações mais frequentes na base? Quais são suas frequências?\n",
    "3. Construa uma nova variável que contenha o ano do **status**. Observe que ```data_status``` vem como tipo *object* no **DataFrame**. Dica: você pode usar o método ```.str``` para transformar o tipo da variável em string, em seguida um método como [**slice()**](https://pandas.pydata.org/docs/reference/api/pandas.Series.str.slice.html) ou [**split()**](https://pandas.pydata.org/pandas-docs/stable/reference/api/pandas.Series.str.split.html).\n",
    "4. Indique a frequência de cada ano do campo construído no item (3)."
   ]
  },
  {
   "cell_type": "code",
   "execution_count": 57,
   "metadata": {},
   "outputs": [],
   "source": [
    "# 1) Seu código aqui\n",
    "\n",
    "url = ' http://apidatalake.tesouro.gov.br/ords/sadipem/tt/pvl?uf=RJ&tipo_interessado=Munic%C3%ADpio'\n",
    "r = requests.get(url)"
   ]
  },
  {
   "cell_type": "code",
   "execution_count": 58,
   "metadata": {},
   "outputs": [
    {
     "data": {
      "text/plain": [
       "200"
      ]
     },
     "execution_count": 58,
     "metadata": {},
     "output_type": "execute_result"
    }
   ],
   "source": [
    "r.status_code"
   ]
  },
  {
   "cell_type": "code",
   "execution_count": 59,
   "metadata": {},
   "outputs": [],
   "source": [
    "data_json = r.json()"
   ]
  },
  {
   "cell_type": "code",
   "execution_count": 60,
   "metadata": {},
   "outputs": [],
   "source": [
    "df = pd.DataFrame(data_json['items'])"
   ]
  },
  {
   "cell_type": "code",
   "execution_count": 61,
   "metadata": {},
   "outputs": [
    {
     "data": {
      "text/plain": [
       "id_pleito                  int64\n",
       "tipo_interessado          object\n",
       "interessado               object\n",
       "cod_ibge                   int64\n",
       "uf                        object\n",
       "num_pvl                   object\n",
       "status                    object\n",
       "num_processo              object\n",
       "data_protocolo            object\n",
       "tipo_operacao             object\n",
       "finalidade                object\n",
       "tipo_credor               object\n",
       "credor                    object\n",
       "moeda                     object\n",
       "valor                    float64\n",
       "pvl_assoc_divida           int64\n",
       "pvl_contradado_credor      int64\n",
       "data_status               object\n",
       "dtype: object"
      ]
     },
     "execution_count": 61,
     "metadata": {},
     "output_type": "execute_result"
    }
   ],
   "source": [
    "df.dtypes"
   ]
  },
  {
   "cell_type": "code",
   "execution_count": 62,
   "metadata": {},
   "outputs": [
    {
     "data": {
      "text/plain": [
       "status\n",
       "Deferido                                                 106\n",
       "Arquivado                                                 53\n",
       "Arquivado por decurso de prazo                            26\n",
       "Regularizado                                              26\n",
       "Deferido (PVL-IF)                                         26\n",
       "Encaminhado à PGFN com manifestação técnica favorável     20\n",
       "Arquivado a pedido                                         8\n",
       "Em retificação pelo interessado                            6\n",
       "Assinado pelo interessado (retificação)                    4\n",
       "Em análise                                                 2\n",
       "Em retificação pelo credor                                 2\n",
       "Em retificação pelo interessado (PVL-IF)                   1\n",
       "Arquivado pela STN                                         1\n",
       "Arquivado a pedido (PVL-IF)                                1\n",
       "Name: count, dtype: int64"
      ]
     },
     "execution_count": 62,
     "metadata": {},
     "output_type": "execute_result"
    }
   ],
   "source": [
    "# 2) Seu código aqui\n",
    "\n",
    "df['status'].value_counts()"
   ]
  },
  {
   "cell_type": "code",
   "execution_count": 63,
   "metadata": {},
   "outputs": [],
   "source": [
    "# 3) Seu código aqui\n",
    "\n",
    "# Primeiro, converto a coluna data_status para string\n",
    "df['data_status'] = df['data_status'].astype(str)\n",
    "\n",
    "# Agora, crio uma nova coluna ('ano_status') extraindo o ano\n",
    "df['ano_status'] = df['data_status'].str.split('/').str[-1]\n",
    "\n",
    "# Pra terminar, converto a coluna 'ano_status' para int\n",
    "df['ano_status'] = df['ano_status'].astype(int)"
   ]
  },
  {
   "cell_type": "code",
   "execution_count": 64,
   "metadata": {},
   "outputs": [
    {
     "data": {
      "text/plain": [
       "ano_status\n",
       "2008    37\n",
       "2007    29\n",
       "2023    28\n",
       "2014    20\n",
       "2010    19\n",
       "2025    17\n",
       "2019    16\n",
       "2013    15\n",
       "2020    14\n",
       "2012    13\n",
       "2022    11\n",
       "2011    10\n",
       "2009     9\n",
       "2015     8\n",
       "2024     8\n",
       "2021     5\n",
       "2017     5\n",
       "2016     4\n",
       "2018     4\n",
       "2006     4\n",
       "2002     4\n",
       "2003     1\n",
       "2004     1\n",
       "Name: count, dtype: int64"
      ]
     },
     "execution_count": 64,
     "metadata": {},
     "output_type": "execute_result"
    }
   ],
   "source": [
    "# Abaixo indico a frequência de cada ano do campo construído no item (3).\n",
    "\n",
    "df['ano_status'].value_counts()"
   ]
  },
  {
   "cell_type": "markdown",
   "metadata": {},
   "source": [
    "####  2) Melhorando a interação com o API\n",
    "Observe dois URLs de consultas diferentes, por exemplo o URL utilizado em aula, e o URL feito no exercício anterior. Compare-os e observe as diferenças.\n",
    "\n",
    "1. Faça uma função em Python que recebe como argumento o UF da consulta e o tipo de interessado (```'Estado'```ou ```Município```), e que devolve os dados da consulta no formato *DataFrame*.\n",
    "2. Quantas solicitações para o Estado podem ser consultadas para Minas Gerais com *status* em 'Arquivado por decurso de prazo' estão registradas?\n",
    "3. Qual é o município da Bahia com mais solicitações deferidas?\n",
    "4. Salve um arquivo .csv com os dados de solicitações da Bahia, com interessado = 'Estado'"
   ]
  },
  {
   "cell_type": "code",
   "execution_count": 65,
   "metadata": {},
   "outputs": [],
   "source": [
    "#1) Seu código aqui\n",
    "\n",
    "def obter_dados(uf: str, tipo_interessado: str) -> pd.DataFrame:\n",
    "    uf = uf.strip().upper()\n",
    "    tipo = tipo_interessado.strip().capitalize()\n",
    "\n",
    "    if tipo not in ['Estado', 'Município']:\n",
    "        raise ValueError(\"tipo_interessado deve ser 'Estado' ou 'Município'\")\n",
    "\n",
    "    url = \"http://apidatalake.tesouro.gov.br/ords/sadipem/tt/pvl\"\n",
    "    params = {\n",
    "        \"uf\": uf,\n",
    "        \"tipo_interessado\": tipo\n",
    "    }\n",
    "\n",
    "    resp = requests.get(url, params=params, timeout=10)\n",
    "    resp.raise_for_status()\n",
    "\n",
    "    dados_json = resp.json()\n",
    "\n",
    "    if 'items' in dados_json:\n",
    "        lista = dados_json['items']\n",
    "    else:\n",
    "        lista = dados_json\n",
    "\n",
    "    df = pd.DataFrame(lista)\n",
    "    return df"
   ]
  },
  {
   "cell_type": "code",
   "execution_count": 73,
   "metadata": {},
   "outputs": [
    {
     "data": {
      "text/plain": [
       "np.int64(1)"
      ]
     },
     "execution_count": 73,
     "metadata": {},
     "output_type": "execute_result"
    }
   ],
   "source": [
    "# 2) Seu código aqui\n",
    "\n",
    "df_mg = obter_dados('MG', 'Estado')\n",
    "df_mg.head(5)\n",
    "\n",
    "df_mg['status'].value_counts()['Arquivado por decurso de prazo']"
   ]
  },
  {
   "cell_type": "code",
   "execution_count": 84,
   "metadata": {},
   "outputs": [
    {
     "name": "stdout",
     "output_type": "stream",
     "text": [
      "O município com mais solicitações deferidas é Camaçari e aparece 21 vezes.\n"
     ]
    }
   ],
   "source": [
    "# 3) Seu código aqui\n",
    "\n",
    "df_ba_mun = obter_dados('BA', 'Município')\n",
    "df_ba_mun.head(5)\n",
    "\n",
    "mais_frequente = df_ba_mun['interessado'].value_counts().idxmax()\n",
    "frequencia = df_ba_mun['interessado'].value_counts().max()\n",
    "\n",
    "print(f\"O município com mais solicitações deferidas é {mais_frequente} e aparece {frequencia} vezes.\")"
   ]
  },
  {
   "cell_type": "code",
   "execution_count": 91,
   "metadata": {},
   "outputs": [],
   "source": [
    "# 4) Seu código aqui\n",
    "\n",
    "df_ba = obter_dados('BA', 'Estado')\n",
    "df_ba.head(5)\n",
    "\n",
    "df_ba.to_csv('df_ba.csv', index = False)"
   ]
  }
 ],
 "metadata": {
  "kernelspec": {
   "display_name": "Python 3 (ipykernel)",
   "language": "python",
   "name": "python3"
  },
  "language_info": {
   "codemirror_mode": {
    "name": "ipython",
    "version": 3
   },
   "file_extension": ".py",
   "mimetype": "text/x-python",
   "name": "python",
   "nbconvert_exporter": "python",
   "pygments_lexer": "ipython3",
   "version": "3.13.5"
  }
 },
 "nbformat": 4,
 "nbformat_minor": 4
}
