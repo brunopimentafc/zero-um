{
 "cells": [
  {
   "cell_type": "markdown",
   "metadata": {
    "id": "d8yCrvnM_2sd"
   },
   "source": [
    "# Módulo 07, Tarefa 01\n",
    "\n",
    "Vamos começar a mexer na nossa base de projeto? Já fizemos um exercício de montar a variável resposta, já pudemos perceber que essa atividade pode não ser trivial. Vamos agora trabalhar a base para que fique propícia ao *scikitlearn* para trabalharmos.\n",
    "\n",
    "Lembrando, a base se chama demo01.csv, e originalmente está publicada [aqui](https://www.kaggle.com/rikdifos/credit-card-approval-prediction)."
   ]
  },
  {
   "cell_type": "markdown",
   "metadata": {
    "id": "hcMBVVE8_2sg"
   },
   "source": [
    "#### 1) Carregue a base e avalie:\n",
    "\n",
    "- As variáveis\n",
    "- Tipos de dados de cada variável\n",
    "- Quantidade de missings\n",
    "- Distribuição da variável resposta (mau)"
   ]
  },
  {
   "cell_type": "code",
   "execution_count": 1,
   "metadata": {
    "id": "jfUxW_PX_2sh"
   },
   "outputs": [],
   "source": [
    "import numpy as np\n",
    "import pandas as pd\n",
    "import seaborn as sns"
   ]
  },
  {
   "cell_type": "code",
   "execution_count": 2,
   "metadata": {},
   "outputs": [
    {
     "data": {
      "text/plain": [
       "sexo                      object\n",
       "posse_de_veiculo          object\n",
       "posse_de_imovel           object\n",
       "qtd_filhos                 int64\n",
       "tipo_renda                object\n",
       "educacao                  object\n",
       "estado_civil              object\n",
       "tipo_residencia           object\n",
       "idade                    float64\n",
       "tempo_emprego            float64\n",
       "possui_celular             int64\n",
       "possui_fone_comercial      int64\n",
       "possui_fone                int64\n",
       "possui_email               int64\n",
       "qt_pessoas_residencia    float64\n",
       "mau                         bool\n",
       "dtype: object"
      ]
     },
     "execution_count": 2,
     "metadata": {},
     "output_type": "execute_result"
    }
   ],
   "source": [
    "credito = pd.read_csv('demo01.csv')\n",
    "credito.dtypes"
   ]
  },
  {
   "cell_type": "markdown",
   "metadata": {
    "id": "_v0f02mE_2si"
   },
   "source": [
    "#### 2) Vamos montar um metadados\n",
    "\n",
    "1. Crie um dataframe com os nomes de cada variável e o tipo de dados de cada variável.\n",
    "2. Adicione uma coluna nesse *dataframe* chamada \"qtd_categorias\" e coloque nela o número de categorias correspondente de cada variável.\n",
    "    Dica:\n",
    "        1. inicie uma lista vazia\n",
    "        2. faça um for ao longo dos nomes das variáveis,\n",
    "        3. conte o número de categorias dessa variável\n",
    "        4. acumule essa informação de 3. na lista que você criou em 1.\n",
    "        5. No final, essa lista pode ser atribuída à nossa variável."
   ]
  },
  {
   "cell_type": "code",
   "execution_count": 6,
   "metadata": {
    "id": "gNF5BRdA_2si"
   },
   "outputs": [
    {
     "name": "stdout",
     "output_type": "stream",
     "text": [
      "                                    variavel tipo_de_dado\n",
      "sexo                                    sexo       object\n",
      "posse_de_veiculo            posse_de_veiculo       object\n",
      "posse_de_imovel              posse_de_imovel       object\n",
      "qtd_filhos                        qtd_filhos        int64\n",
      "tipo_renda                        tipo_renda       object\n",
      "educacao                            educacao       object\n",
      "estado_civil                    estado_civil       object\n",
      "tipo_residencia              tipo_residencia       object\n",
      "idade                                  idade      float64\n",
      "tempo_emprego                  tempo_emprego      float64\n",
      "possui_celular                possui_celular        int64\n",
      "possui_fone_comercial  possui_fone_comercial        int64\n",
      "possui_fone                      possui_fone        int64\n",
      "possui_email                    possui_email        int64\n",
      "qt_pessoas_residencia  qt_pessoas_residencia      float64\n",
      "mau                                      mau         bool\n"
     ]
    }
   ],
   "source": [
    "#1\n",
    "\n",
    "credito_tipos = pd.DataFrame({\n",
    "    'variavel': credito.columns,\n",
    "    'tipo_de_dado': credito.dtypes.astype(str)\n",
    "})\n",
    "\n",
    "print(credito_tipos)"
   ]
  },
  {
   "cell_type": "code",
   "execution_count": 11,
   "metadata": {},
   "outputs": [
    {
     "name": "stdout",
     "output_type": "stream",
     "text": [
      "                                    variavel tipo_de_dado  qtd_categorias\n",
      "sexo                                    sexo       object               2\n",
      "posse_de_veiculo            posse_de_veiculo       object               2\n",
      "posse_de_imovel              posse_de_imovel       object               2\n",
      "qtd_filhos                        qtd_filhos        int64               8\n",
      "tipo_renda                        tipo_renda       object               5\n",
      "educacao                            educacao       object               5\n",
      "estado_civil                    estado_civil       object               5\n",
      "tipo_residencia              tipo_residencia       object               6\n",
      "idade                                  idade      float64            5298\n",
      "tempo_emprego                  tempo_emprego      float64            3005\n",
      "possui_celular                possui_celular        int64               1\n",
      "possui_fone_comercial  possui_fone_comercial        int64               2\n",
      "possui_fone                      possui_fone        int64               2\n",
      "possui_email                    possui_email        int64               2\n",
      "qt_pessoas_residencia  qt_pessoas_residencia      float64               9\n",
      "mau                                      mau         bool               2\n"
     ]
    }
   ],
   "source": [
    "#2\n",
    "\n",
    "qtd_categorias = []\n",
    "\n",
    "for var in credito_tipos['variavel']:\n",
    "    # Conta o número de valores únicos, ignorando NaN\n",
    "    qtd_categorias.append(credito[var].nunique())\n",
    "\n",
    "# Adiciona a nova coluna ao dataframe credito_tipos\n",
    "credito_tipos['qtd_categorias'] = qtd_categorias\n",
    "\n",
    "print(credito_tipos)"
   ]
  },
  {
   "cell_type": "code",
   "execution_count": 12,
   "metadata": {},
   "outputs": [
    {
     "data": {
      "text/html": [
       "<div>\n",
       "<style scoped>\n",
       "    .dataframe tbody tr th:only-of-type {\n",
       "        vertical-align: middle;\n",
       "    }\n",
       "\n",
       "    .dataframe tbody tr th {\n",
       "        vertical-align: top;\n",
       "    }\n",
       "\n",
       "    .dataframe thead th {\n",
       "        text-align: right;\n",
       "    }\n",
       "</style>\n",
       "<table border=\"1\" class=\"dataframe\">\n",
       "  <thead>\n",
       "    <tr style=\"text-align: right;\">\n",
       "      <th></th>\n",
       "      <th>variavel</th>\n",
       "      <th>tipo_de_dado</th>\n",
       "      <th>qtd_categorias</th>\n",
       "    </tr>\n",
       "  </thead>\n",
       "  <tbody>\n",
       "    <tr>\n",
       "      <th>sexo</th>\n",
       "      <td>sexo</td>\n",
       "      <td>object</td>\n",
       "      <td>2</td>\n",
       "    </tr>\n",
       "    <tr>\n",
       "      <th>posse_de_veiculo</th>\n",
       "      <td>posse_de_veiculo</td>\n",
       "      <td>object</td>\n",
       "      <td>2</td>\n",
       "    </tr>\n",
       "    <tr>\n",
       "      <th>posse_de_imovel</th>\n",
       "      <td>posse_de_imovel</td>\n",
       "      <td>object</td>\n",
       "      <td>2</td>\n",
       "    </tr>\n",
       "    <tr>\n",
       "      <th>qtd_filhos</th>\n",
       "      <td>qtd_filhos</td>\n",
       "      <td>int64</td>\n",
       "      <td>8</td>\n",
       "    </tr>\n",
       "    <tr>\n",
       "      <th>tipo_renda</th>\n",
       "      <td>tipo_renda</td>\n",
       "      <td>object</td>\n",
       "      <td>5</td>\n",
       "    </tr>\n",
       "    <tr>\n",
       "      <th>educacao</th>\n",
       "      <td>educacao</td>\n",
       "      <td>object</td>\n",
       "      <td>5</td>\n",
       "    </tr>\n",
       "    <tr>\n",
       "      <th>estado_civil</th>\n",
       "      <td>estado_civil</td>\n",
       "      <td>object</td>\n",
       "      <td>5</td>\n",
       "    </tr>\n",
       "    <tr>\n",
       "      <th>tipo_residencia</th>\n",
       "      <td>tipo_residencia</td>\n",
       "      <td>object</td>\n",
       "      <td>6</td>\n",
       "    </tr>\n",
       "    <tr>\n",
       "      <th>idade</th>\n",
       "      <td>idade</td>\n",
       "      <td>float64</td>\n",
       "      <td>5298</td>\n",
       "    </tr>\n",
       "    <tr>\n",
       "      <th>tempo_emprego</th>\n",
       "      <td>tempo_emprego</td>\n",
       "      <td>float64</td>\n",
       "      <td>3005</td>\n",
       "    </tr>\n",
       "    <tr>\n",
       "      <th>possui_celular</th>\n",
       "      <td>possui_celular</td>\n",
       "      <td>int64</td>\n",
       "      <td>1</td>\n",
       "    </tr>\n",
       "    <tr>\n",
       "      <th>possui_fone_comercial</th>\n",
       "      <td>possui_fone_comercial</td>\n",
       "      <td>int64</td>\n",
       "      <td>2</td>\n",
       "    </tr>\n",
       "    <tr>\n",
       "      <th>possui_fone</th>\n",
       "      <td>possui_fone</td>\n",
       "      <td>int64</td>\n",
       "      <td>2</td>\n",
       "    </tr>\n",
       "    <tr>\n",
       "      <th>possui_email</th>\n",
       "      <td>possui_email</td>\n",
       "      <td>int64</td>\n",
       "      <td>2</td>\n",
       "    </tr>\n",
       "    <tr>\n",
       "      <th>qt_pessoas_residencia</th>\n",
       "      <td>qt_pessoas_residencia</td>\n",
       "      <td>float64</td>\n",
       "      <td>9</td>\n",
       "    </tr>\n",
       "    <tr>\n",
       "      <th>mau</th>\n",
       "      <td>mau</td>\n",
       "      <td>bool</td>\n",
       "      <td>2</td>\n",
       "    </tr>\n",
       "  </tbody>\n",
       "</table>\n",
       "</div>"
      ],
      "text/plain": [
       "                                    variavel tipo_de_dado  qtd_categorias\n",
       "sexo                                    sexo       object               2\n",
       "posse_de_veiculo            posse_de_veiculo       object               2\n",
       "posse_de_imovel              posse_de_imovel       object               2\n",
       "qtd_filhos                        qtd_filhos        int64               8\n",
       "tipo_renda                        tipo_renda       object               5\n",
       "educacao                            educacao       object               5\n",
       "estado_civil                    estado_civil       object               5\n",
       "tipo_residencia              tipo_residencia       object               6\n",
       "idade                                  idade      float64            5298\n",
       "tempo_emprego                  tempo_emprego      float64            3005\n",
       "possui_celular                possui_celular        int64               1\n",
       "possui_fone_comercial  possui_fone_comercial        int64               2\n",
       "possui_fone                      possui_fone        int64               2\n",
       "possui_email                    possui_email        int64               2\n",
       "qt_pessoas_residencia  qt_pessoas_residencia      float64               9\n",
       "mau                                      mau         bool               2"
      ]
     },
     "execution_count": 12,
     "metadata": {},
     "output_type": "execute_result"
    }
   ],
   "source": [
    "credito_tipos"
   ]
  },
  {
   "cell_type": "markdown",
   "metadata": {
    "id": "h0XKJFhY_2si"
   },
   "source": [
    "#### 3) Crie variáveis dummy para as variáveis necessárias (i.e. aquelas que são qualitativas e não estão armazenadas como {0, 1} ou {True, False}. Crie um *dataframe* apenas com as variáveis apropriadas para entrada no scikitlearn - elimine as variáveis tipo *str*, mantendo apenas suas versões *dummy*."
   ]
  },
  {
   "cell_type": "code",
   "execution_count": 22,
   "metadata": {
    "id": "ePbdZDOi_2sj"
   },
   "outputs": [
    {
     "name": "stdout",
     "output_type": "stream",
     "text": [
      "   qtd_filhos      idade  tempo_emprego  possui_celular  \\\n",
      "0           0  58.832877       3.106849               1   \n",
      "1           0  52.356164       8.358904               1   \n",
      "2           0  52.356164       8.358904               1   \n",
      "3           0  46.224658       2.106849               1   \n",
      "4           0  29.230137       3.021918               1   \n",
      "\n",
      "   possui_fone_comercial  possui_fone  possui_email  qt_pessoas_residencia  \\\n",
      "0                      0            0             0                    2.0   \n",
      "1                      0            1             1                    1.0   \n",
      "2                      0            1             1                    1.0   \n",
      "3                      1            1             1                    2.0   \n",
      "4                      0            0             0                    2.0   \n",
      "\n",
      "     mau  tipo_renda_Pensioner  ...  educacao_Secondary / secondary special  \\\n",
      "0  False                 False  ...                                    True   \n",
      "1  False                 False  ...                                    True   \n",
      "2  False                 False  ...                                    True   \n",
      "3  False                 False  ...                                   False   \n",
      "4  False                 False  ...                                   False   \n",
      "\n",
      "   estado_civil_Married  estado_civil_Separated  \\\n",
      "0                  True                   False   \n",
      "1                 False                   False   \n",
      "2                 False                   False   \n",
      "3                  True                   False   \n",
      "4                  True                   False   \n",
      "\n",
      "   estado_civil_Single / not married  estado_civil_Widow  \\\n",
      "0                              False               False   \n",
      "1                               True               False   \n",
      "2                               True               False   \n",
      "3                              False               False   \n",
      "4                              False               False   \n",
      "\n",
      "   tipo_residencia_House / apartment  tipo_residencia_Municipal apartment  \\\n",
      "0                               True                                False   \n",
      "1                               True                                False   \n",
      "2                               True                                False   \n",
      "3                               True                                False   \n",
      "4                               True                                False   \n",
      "\n",
      "   tipo_residencia_Office apartment  tipo_residencia_Rented apartment  \\\n",
      "0                             False                             False   \n",
      "1                             False                             False   \n",
      "2                             False                             False   \n",
      "3                             False                             False   \n",
      "4                             False                             False   \n",
      "\n",
      "   tipo_residencia_With parents  \n",
      "0                         False  \n",
      "1                         False  \n",
      "2                         False  \n",
      "3                         False  \n",
      "4                         False  \n",
      "\n",
      "[5 rows x 26 columns]\n"
     ]
    }
   ],
   "source": [
    "# Aqui identifico variáveis categóricas (tipo object)\n",
    "variaveis_categoricas = credito_tipos.loc[\n",
    "    credito_tipos['tipo_de_dado'] == 'object', 'variavel'\n",
    "]\n",
    "\n",
    "# Agora filtro apenas as categóricas com mais de 2 categorias (não binárias)\n",
    "variaveis_multiclasse = credito_tipos.loc[\n",
    "    (credito_tipos['tipo_de_dado'] == 'object') & (credito_tipos['qtd_categorias'] > 2),\n",
    "    'variavel'\n",
    "]\n",
    "\n",
    "# Agora dummies para essas variáveis, usando o dataframe original (credito)\n",
    "dummies = pd.get_dummies(credito[variaveis_multiclasse], drop_first=True)\n",
    "\n",
    "\n",
    "# Seleciono as variáveis numéricas e booleanas\n",
    "variaveis_numericas = credito_tipos.loc[\n",
    "    credito_tipos['tipo_de_dado'].isin(['int64', 'float64', 'bool']),\n",
    "    'variavel'\n",
    "]\n",
    "\n",
    "# Com base nisso, crio o dataframe final para entrada no scikit-learn\n",
    "credito_modelo = pd.concat([credito[variaveis_numericas], dummies], axis=1)\n",
    "\n",
    "# Visualizao o resultado\n",
    "print(credito_modelo.head())"
   ]
  },
  {
   "cell_type": "markdown",
   "metadata": {
    "id": "uhaqFcPE_2sj"
   },
   "source": [
    "#### 4) Qual variável é mais poderosa?\n",
    "\n",
    "Considere as variáveis ```possui_email``` e ```posse_de_veiculo```. Faça uma tabela cruzada entre elas e responda qual delas te parece mais poderosa para prever a probabilidade de ```mau = 1```?"
   ]
  },
  {
   "cell_type": "code",
   "execution_count": 23,
   "metadata": {
    "id": "3wUAHc_-_2sj"
   },
   "outputs": [
    {
     "name": "stdout",
     "output_type": "stream",
     "text": [
      "Distribuição de mau por posse de veículo:\n",
      "\n",
      "mau                  False     True \n",
      "posse_de_veiculo                    \n",
      "N                 0.975732  0.024268\n",
      "Y                 0.977905  0.022095 \n",
      "\n",
      "Distribuição de mau por posse de e-mail:\n",
      "\n",
      "mau              False     True \n",
      "possui_email                    \n",
      "0             0.976269  0.023731\n",
      "1             0.979730  0.020270\n"
     ]
    }
   ],
   "source": [
    "# Tabela cruzada entre POSSE_DE_VEICULO e MAU\n",
    "tabela_veiculo = pd.crosstab(credito['posse_de_veiculo'], credito['mau'], normalize='index')\n",
    "\n",
    "# Tabela cruzada entre POSSUI_EMAIL e MAU\n",
    "tabela_email = pd.crosstab(credito['possui_email'], credito['mau'], normalize='index')\n",
    "\n",
    "# Exibo resultados\n",
    "print(\"Distribuição de mau por posse de veículo:\\n\")\n",
    "print(tabela_veiculo, \"\\n\")\n",
    "\n",
    "print(\"Distribuição de mau por posse de e-mail:\\n\")\n",
    "print(tabela_email)"
   ]
  },
  {
   "cell_type": "markdown",
   "metadata": {
    "id": "G2Issl2e_2sj"
   },
   "source": [
    "#### 5) Salve a base, pois ela será utilizada no final deste módulo."
   ]
  },
  {
   "cell_type": "code",
   "execution_count": 24,
   "metadata": {},
   "outputs": [],
   "source": [
    "# Salvando a base final em formato CSV\n",
    "credito_modelo.to_csv('credito_modelo.csv', index=False)"
   ]
  }
 ],
 "metadata": {
  "colab": {
   "provenance": []
  },
  "kernelspec": {
   "display_name": "Python 3 (ipykernel)",
   "language": "python",
   "name": "python3"
  },
  "language_info": {
   "codemirror_mode": {
    "name": "ipython",
    "version": 3
   },
   "file_extension": ".py",
   "mimetype": "text/x-python",
   "name": "python",
   "nbconvert_exporter": "python",
   "pygments_lexer": "ipython3",
   "version": "3.13.5"
  }
 },
 "nbformat": 4,
 "nbformat_minor": 4
}
